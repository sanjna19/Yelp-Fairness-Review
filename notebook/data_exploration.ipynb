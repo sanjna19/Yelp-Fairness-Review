{
 "cells": [
  {
   "cell_type": "markdown",
   "metadata": {},
   "source": []
  },
  {
   "cell_type": "code",
   "execution_count": 2,
   "metadata": {},
   "outputs": [],
   "source": [
    "import os\n",
    "import sys\n",
    "\n",
    "src_path = r\"D:\\SEM 4\\CS516\\Yelp Fairness Review\\scripts\"\n",
    "if src_path not in sys.path:\n",
    "    sys.path.append(src_path)\n",
    "\n",
    "from preprocessing import (\n",
    "    load_businesses, flag_major_chains,\n",
    "    load_reviews_for_businesses, merge_reviews_businesses,\n",
    "    sample_reviews_per_city\n",
    ")"
   ]
  },
  {
   "cell_type": "code",
   "execution_count": null,
   "metadata": {},
   "outputs": [],
   "source": [
    "\n",
    "#parameters\n",
    "business_path = r'../Yelp-JSON/yelp_dataset/yelp_academic_dataset_business.json'\n",
    "review_path = r'../Yelp-JSON/yelp_dataset/yelp_academic_dataset_review.json'\n",
    "target_cities = ['Las Vegas', 'Toronto', 'Phoenix', 'Charlotte', 'Edinburgh','Pittsburgh']\n",
    "hospitality_keywords = ['Hotel', 'Resort', 'Motel', 'Inn', 'Lodge', 'Hostel', 'Spa', 'Restaurant']\n",
    "major_chains = ['Marriott', 'Hilton', 'Hyatt', 'IHG', 'Holiday Inn', 'Sheraton', 'Ritz', 'Westin', 'DoubleTree']\n"
   ]
  },
  {
   "cell_type": "code",
   "execution_count": null,
   "metadata": {},
   "outputs": [],
   "source": [
    "# Load and filter businesses\n",
    "business_df = load_businesses(business_path, target_cities, hospitality_keywords, major_chains)\n",
    "business_df = flag_major_chains(business_df, major_chains)\n",
    "\n",
    "# Load reviews\n",
    "valid_business_ids = set(business_df['business_id'])\n",
    "review_df = load_reviews_for_businesses(review_path, valid_business_ids)"
   ]
  },
  {
   "cell_type": "code",
   "execution_count": null,
   "metadata": {},
   "outputs": [],
   "source": [
    "# Merge\n",
    "df = merge_reviews_businesses(review_df, business_df)\n",
    "\n",
    "# Sample per city to ensure no imbalance in data\n",
    "df_sampled = sample_reviews_per_city(df, city_col='city', n_per_city=5000, random_state=42)\n",
    "\n",
    "# Save prepared data\n",
    "df_sampled.to_csv('../Yelp-JSON/yelp_dataset/prepared_hospitality_reviews.csv', index=False)"
   ]
  }
 ],
 "metadata": {
  "kernelspec": {
   "display_name": "signal-protocol-implementation",
   "language": "python",
   "name": "signal-protocol-implementation"
  },
  "language_info": {
   "codemirror_mode": {
    "name": "ipython",
    "version": 3
   },
   "file_extension": ".py",
   "mimetype": "text/x-python",
   "name": "python",
   "nbconvert_exporter": "python",
   "pygments_lexer": "ipython3",
   "version": "3.11.9"
  }
 },
 "nbformat": 4,
 "nbformat_minor": 2
}
