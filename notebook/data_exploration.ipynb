{
 "cells": [
  {
   "cell_type": "markdown",
   "metadata": {},
   "source": []
  },
  {
   "cell_type": "code",
   "execution_count": 8,
   "metadata": {},
   "outputs": [],
   "source": [
    "import os\n",
    "import sys\n",
    "import json\n",
    "import pandas as pd\n",
    "from collections import Counter\n",
    "\n",
    "src_path = r\"D:\\SEM 4\\CS516\\Yelp Fairness Review\\scripts\"\n",
    "if src_path not in sys.path:\n",
    "    sys.path.append(src_path)\n",
    "\n",
    "from preprocessing import (\n",
    "    \n",
    "      add_chain_flags,\n",
    "    sample_reviews_per_city, add_category_flags, clean_reviews\n",
    ")"
   ]
  },
  {
   "cell_type": "code",
   "execution_count": 9,
   "metadata": {},
   "outputs": [
    {
     "name": "stdout",
     "output_type": "stream",
     "text": [
      "Unique cities in sample: ['Santa Barbara' 'Affton' 'Tucson' 'Philadelphia' 'Green Lane'\n",
      " 'Ashland City' 'Brentwood' 'St. Petersburg' 'Nashville' \"Land O' Lakes\"\n",
      " 'Tampa Bay' 'Indianapolis' 'Clearwater' 'Largo' 'New Orleans' 'Kenner'\n",
      " 'Edmonton' 'Reno' 'Newtown' 'White House' 'Boise' 'Paoli' 'Ardmore'\n",
      " 'Exton' 'Wilmington' 'Edwardsville' 'Sparks' 'Alton' 'Cherry Hill'\n",
      " 'Bala Cynwyd' 'Springfield' 'Belleville' 'Carmel' 'Tampa'\n",
      " 'Kennett Square' 'Plymouth Meeting' 'Harvey' 'West Chester' 'Meridian'\n",
      " 'Hudson' 'Fernley' 'Williamstown' 'Pinellas Park' 'Glenolden'\n",
      " 'Wesley Chapel' 'Fishers' 'Burlington' 'Troy' 'Camden' 'Plainfield'\n",
      " 'Bensalem' 'Maplewood' 'Saint Louis' 'Fairview Heights' 'Oro Valley'\n",
      " 'Treasure Island' 'Southampton' 'Chalfont' 'Willow Grove' 'Voorhees'\n",
      " 'Tarpon Springs' 'Blue Bell' 'Metairie' 'Woodbury' 'Brownsburg'\n",
      " 'Norristown' 'Land O Lakes' 'Greenwood' 'Saint Petersburg' 'Brookhaven'\n",
      " 'Haverford' 'Glenside' 'Moorestown' 'Madison' 'Ewing' 'Levittown'\n",
      " 'Gloucester Township' 'Aston' 'Riverview' 'Warrington' 'Wyncote'\n",
      " 'St. Louis' 'Havertown' 'Madeira Beach' 'Lutz' 'Langhorne'\n",
      " 'King of Prussia' 'Smithton' 'Jenkintown' 'New Port Richey' 'Avon'\n",
      " 'Normandy' 'Wayne' 'Franklin' 'Tuscon' 'Brandon' 'Berwyn' 'TAMPA'\n",
      " 'St Albert' 'Terra Ceia' 'Delaware County' 'Hermitage' 'Doylestown'\n",
      " 'Temple Terrace' 'Downingtown' 'Sherwood Park' 'Virginia City' 'Trenton'\n",
      " 'Bellmawr' 'Marana' 'Belle Chasse' 'Somerdale' 'Warminster' 'Smyrna'\n",
      " 'Chester' 'Odessa' 'Horsham' 'Valley Forge' 'Apollo Beach' 'Malvern'\n",
      " 'Maple Shade' 'Lansdale' 'St. Pete Beach' 'Ballwin' 'Cedarbrook'\n",
      " 'Spring Hill' 'Goodlettsville' 'Villanova' 'Holiday' 'Narberth' 'Oldsmar'\n",
      " 'Bristol' 'Isla Vista' 'Perkiomenville' 'Seminole' 'Gulfport' 'Glassboro'\n",
      " 'Haddonfield' 'Montgomeryville' 'Chesterfield' 'Fenton' 'Pennsville'\n",
      " 'Haddon Heights' 'Morrisville' 'Goleta' 'Hazelwood' 'View' 'North Wales'\n",
      " 'Upper Darby' 'Elkins Park' 'Medford' 'St Louis' 'Kingston Springs'\n",
      " 'Noblesville' 'Mullica Hill' 'Palmyra' 'New Hope' 'St Petersburg'\n",
      " 'Mount Juliet' 'Buckingham' 'Mt. Juliet' 'Media' 'Saint Charles'\n",
      " 'Chalmette' 'High Ridge' 'Conshohocken' 'Hernando Beach' 'Florissant'\n",
      " 'Sicklerville' 'University City' 'Mooresville' 'Chadds Ford' 'Woodstown'\n",
      " 'Plant City' 'Catalina Foothills' 'Spring HIll' 'O Fallon' 'Ruskin'\n",
      " 'Town and Country' 'Lebanon' 'Bridgeton' 'Skippack' 'Bryn Mawr'\n",
      " 'Safety Harbor' 'Jennings' 'Eagle' 'Feasterville' 'Pottstown'\n",
      " 'Carpinteria' 'Marlton' 'Spring City' 'Valrico' 'Riverside'\n",
      " 'Lambertville' 'Creve Coeur' 'Green Valley' 'Ambler' 'Manchester'\n",
      " 'Hatfield' 'St. Charles' 'Clementon' 'Montecito' 'Godfrey'\n",
      " 'Florence Township' 'Mascoutah' 'Trinity' 'Sewell' 'King Of Prussia'\n",
      " 'Yardley' 'Delran' 'St. Davids' 'Newark' 'Primos' 'Huntingdon Valley'\n",
      " 'Bellair' 'Collingswood' 'Marrero' 'Mount Laurel' 'Collingdale'\n",
      " 'Fort Washington' 'Hendersonville' 'Silverdale' 'Limerick'\n",
      " 'Haddon Township' 'Cinnaminson' 'Lionville' 'Oreland' 'Turnersville'\n",
      " 'Westwego' 'Prospect Park' 'Cahokia' 'Port Richey' 'Atco' 'Fountainville'\n",
      " 'Collegeville' 'Royersford' 'Dunedin' 'Bridgeport'\n",
      " 'Mount Laurel Township' 'Glen Carbon' 'Roslyn' 'West Berlin'\n",
      " 'Huntingdon Valley PA' 'Washington Crossing' 'Zionsville' 'St Charles'\n",
      " 'Drexel Hill' 'Verdi' 'Riverton' 'Folsom' \"Town 'n' Country\"\n",
      " 'Clearwater Beach' 'Harleysville' 'St Pete Beach' 'Lawnside'\n",
      " 'Pleasant View' 'Arnold' 'Thorndale' 'Seffner' 'Kimberton'\n",
      " 'East Norriton' 'Zephyrhills' 'Maryland Heights' 'Overland'\n",
      " 'Schwenksville' 'Granite City' 'Dublin' 'Harahan' 'Warson Woods'\n",
      " 'Flourtown' 'Old Hickory' 'Sun City Center' 'Franklinville' 'Palm Harbor'\n",
      " 'Voorhees Township' 'Oaks' 'Phoenixville' 'NASHVILLE' 'Temple Terr'\n",
      " 'Pitman' 'Line Lexington' 'Runnemede' 'Hockessin' 'Newtown Square'\n",
      " 'St. Albert' 'Ferguson' 'Gretna' 'Fairless Hills' 'Clifton Heights'\n",
      " 'Des Peres' 'Pennsauken' 'Trooper' 'North Redington Beach' 'Ridley Park'\n",
      " 'Earth City' 'Woodlyn' 'Avondale' 'Lumberton' 'Hatboro' 'Lahaska'\n",
      " 'Westville' 'Boothwyn' 'Woolwich Twp' 'Saint Ann' 'Kulpsville' 'Newport'\n",
      " 'Shiloh' 'Waterloo' 'Washington Township' 'Wyndmoor' 'Brooklawn'\n",
      " 'Abington' 'Berlin' 'Darby' 'Bellevue' 'Glen Mills' 'Souderton'\n",
      " 'Gallatin' 'Kirkwood' 'Speedway' 'Rosemont' 'Berkeley' 'Broomall'\n",
      " 'La Vergne' 'Mount Holly' 'Perkasie' 'New Castle' 'Lithia' 'Barrington'\n",
      " 'Deptford Township' 'Erdenheim' 'Westmont' 'Greenbrier' 'Pontoon Beach'\n",
      " 'Lawrence' 'Sharon Hill' 'Swedesboro' 'Cheltenham' 'Whiteland' 'Belleair'\n",
      " 'Antioch' 'Eddystone' 'East Greenville' 'Sellersville' 'Jefferson'\n",
      " 'Evesham Township' 'Webster Groves' 'Freeburg' 'Swarthmore' 'Frazer'\n",
      " 'Ewing Township' 'Camby' 'Audubon ' 'Greater Northdale' 'Shrewsbury'\n",
      " 'Oaklyn' 'Richmond Heights' 'Collinsville' 'Mulberry' 'Woodbury Heights'\n",
      " 'Deptford' 'Town & Country' 'Hamilton' 'Whitestown'\n",
      " 'Willingboro Township' 'Gibbsboro' 'Glendora' 'Stowe' 'Morton' 'Beaumont'\n",
      " 'Dover' \"O'Fallon\" 'Sauget' 'Elmer' 'Swansea' 'Lansdowne' 'Garden City'\n",
      " 'Blackwood' 'Columbus' 'Richboro' 'Thonotosassa' 'Feasterville-Trevose'\n",
      " 'Glenmoore' 'Holmes' 'Wenonah' 'Quakertown' 'Mount Ephraim' 'Hainesport'\n",
      " 'Penns Grove' 'Gilbertsville' 'Hamilton Township' 'Land o lakes'\n",
      " 'Claymont' 'Imperial' 'Essington' 'Gibsonton' 'Arabi' 'Eagleville'\n",
      " 'Mendenhall' 'Clayton' 'Maryville' 'Dresher' 'Penndel' 'Saint Pete Beach'\n",
      " 'River Ridge' 'Columbia' 'Crestwood' 'ST. Louis' \"Land O'Lakes\"\n",
      " 'Lindenwold' 'Douglassville' 'Bosie' 'Maple Shade Township'\n",
      " 'Redington Shores' 'Bordentown' 'Colmar' 'Secane' 'santa Barbara'\n",
      " 'Terrytown' 'Lafayette Hill' 'Drexel' 'abington' 'Telford' 'St.Ann'\n",
      " 'Elverson' 'Rockledge' 'Mickleton' 'Greenville' 'Willingboro'\n",
      " 'East Saint Louis' 'Woolwich Township' 'Crum Lynne' 'Hilltown'\n",
      " 'Spring House' 'Laurel Springs' 'Croydon' 'Merchantville'\n",
      " 'Spanish Springs' 'Westampton' 'Wimauma' 'Erial' 'Mt Juliet'\n",
      " 'McCordsville' 'Trappe' 'Shamong' 'West Deptford' 'Olivette'\n",
      " 'Treasure Is' 'Secane ' 'Mt. Laurel' 'Furlong' 'Oracle' 'Pass-a-Grille'\n",
      " 'Norriton' 'Maryville ' 'Wood River' 'Mount Royal' 'Danville' 'Sahuarita'\n",
      " 'Beech Grove' 'Petersburg' 'Trevose' 'Paulsboro' 'Palmetto'\n",
      " 'New Palestine' 'Millstadt' 'Holland' 'New castle' 'Valley Park'\n",
      " 'Jamison' 'Yeadon' 'Dupo' 'Plumsteadville' 'Mt Laurel' 'Mont Clare'\n",
      " 'Primos-Secane' 'Audubon' 'Sun Valley' 'Indian Rocks Beach' 'Scott AFB'\n",
      " 'Jobstown' 'Flanders'\n",
      " 'Nashville-Davidson metropolitan government (balance)' 'Wallingford'\n",
      " 'Wynnewood' 'East Lake' 'Nolensville' 'NEW PORT RICHEY' 'Philadephia'\n",
      " 'Boyertown' 'Tabernacle' 'Vineland' 'Caseyville' 'Reno ' 'Magnolia'\n",
      " 'Lester' 'Vail' 'Florence' 'Hillsborough County' 'Mansfield'\n",
      " 'South Cinnaminson' 'Garnet Valley' 'Maple Glen' 'Chester Springs'\n",
      " 'Ybor City' 'Ladue' 'Edmundson' 'Masaryktown' 'Saint Davids' 'Truckee'\n",
      " 'Waterford Works' 'Tuson' 'Belleair Bluffs' 'Penn Valley' 'Belmont Hills'\n",
      " 'Southport' 'Radnor' 'St.Rose' 'Lawrenceville' 'Glenn Mills' 'Arizona'\n",
      " 'Bear' 'Newfield' 'Santa Barbara ' 'Saint Albert' 'Indian Shores'\n",
      " 'Hammonton' 'South Pasadena' 'Folcroft' 'Gloucester City' 'Webster Grvs'\n",
      " 'West Conshohocken' 'Devon' 'phoenixville' 'Meterie' 'Evesham'\n",
      " 'Berlin Township' 'Redingtn Shor' 'Feasterville Trevose'\n",
      " 'Monroe Township' 'Pennsburg' 'Frontenac' 'New Britain' 'SPARKS'\n",
      " 'New Prt Rchy' 'Churchville' 'Elsmere' 'Boone' 'Mercerville' 'Rock Hill'\n",
      " 'Linwood' 'Stratford' 'Merion Park' 'Belle Chase' 'Abington Township'\n",
      " 'Twin Oaks' 'Dade City' 'Fairmount Park' 'lutz' 'NW Edmonton' 'Star'\n",
      " 'Staint Albert' 'Sun City' \"O'fallon\"]\n"
     ]
    }
   ],
   "source": [
    "businesses = []\n",
    "with open('../Yelp-JSON/yelp_dataset/yelp_academic_dataset_business.json', encoding='utf-8') as f:\n",
    "    for i, line in enumerate(f):\n",
    "        if i > 10000:  # Just load first 10k rows for a quick look\n",
    "            break\n",
    "        businesses.append(json.loads(line))\n",
    "raw_business_df = pd.DataFrame(businesses)\n",
    "print(\"Unique cities in sample:\", raw_business_df['city'].unique())"
   ]
  },
  {
   "cell_type": "code",
   "execution_count": 10,
   "metadata": {},
   "outputs": [
    {
     "name": "stdout",
     "output_type": "stream",
     "text": [
      "Unique categories in sample: ['Doctors, Traditional Chinese Medicine, Naturopathic/Holistic, Acupuncture, Health & Medical, Nutritionists'\n",
      " 'Shipping Centers, Local Services, Notaries, Mailbox Centers, Printing Services'\n",
      " 'Department Stores, Shopping, Fashion, Home & Garden, Electronics, Furniture Stores'\n",
      " ... 'Bars, Nightlife, Airport Lounges'\n",
      " 'Professional Services, Local Services, Printing Services, Graphic Design'\n",
      " 'Burgers, Ice Cream & Frozen Yogurt, Restaurants, Food, Fast Food']\n"
     ]
    }
   ],
   "source": [
    "print(\"Unique categories in sample:\", raw_business_df['categories'].unique())\n"
   ]
  },
  {
   "cell_type": "code",
   "execution_count": 11,
   "metadata": {},
   "outputs": [
    {
     "name": "stdout",
     "output_type": "stream",
     "text": [
      "Total businesses: 150346\n"
     ]
    }
   ],
   "source": [
    "with open('../Yelp-JSON/yelp_dataset/yelp_academic_dataset_business.json', encoding='utf-8') as f:\n",
    "    for i, line in enumerate(f):\n",
    "        pass\n",
    "print(f\"Total businesses: {i+1}\")\n"
   ]
  },
  {
   "cell_type": "code",
   "execution_count": 12,
   "metadata": {},
   "outputs": [
    {
     "name": "stdout",
     "output_type": "stream",
     "text": [
      "Cities with matching substrings and their counts:\n",
      "phoenixville: 366\n",
      "charlotte: 1\n"
     ]
    }
   ],
   "source": [
    "target_substrings = ['las vegas', 'toronto', 'phoenix', 'charlotte', 'edinburgh', 'pittsburgh']\n",
    "city_counter = {}\n",
    "\n",
    "with open('../Yelp-JSON/yelp_dataset/yelp_academic_dataset_business.json', encoding='utf-8') as f:\n",
    "    for line in f:\n",
    "        business = json.loads(line)\n",
    "        city_lower = business['city'].strip().lower()\n",
    "        for t in target_substrings:\n",
    "            if t in city_lower:\n",
    "                city_counter.setdefault(city_lower, 0)\n",
    "                city_counter[city_lower] += 1\n",
    "\n",
    "print(\"Cities with matching substrings and their counts:\")\n",
    "for k, v in city_counter.items():\n",
    "    print(f\"{k}: {v}\")\n"
   ]
  },
  {
   "cell_type": "code",
   "execution_count": 13,
   "metadata": {},
   "outputs": [
    {
     "name": "stdout",
     "output_type": "stream",
     "text": [
      "Top cities in dataset by number of businesses:\n",
      "Philadelphia: 14570\n",
      "Tucson: 9252\n",
      "Tampa: 9051\n",
      "Indianapolis: 7543\n",
      "Nashville: 6974\n",
      "New Orleans: 6209\n",
      "Reno: 5937\n",
      "Edmonton: 5054\n",
      "Saint Louis: 4828\n",
      "Santa Barbara: 3834\n"
     ]
    }
   ],
   "source": [
    "# Count number of businesses per city\n",
    "city_counter = Counter()\n",
    "with open('../Yelp-JSON/yelp_dataset/yelp_academic_dataset_business.json', encoding='utf-8') as f:\n",
    "    for line in f:\n",
    "        business = json.loads(line)\n",
    "        city = business['city'].strip()\n",
    "        city_counter[city] += 1\n",
    "\n",
    "# Show top 10 cities by business count\n",
    "top_cities = city_counter.most_common(10)\n",
    "print(\"Top cities in dataset by number of businesses:\")\n",
    "for city, count in top_cities:\n",
    "    print(f\"{city}: {count}\")"
   ]
  },
  {
   "cell_type": "code",
   "execution_count": 20,
   "metadata": {},
   "outputs": [
    {
     "name": "stdout",
     "output_type": "stream",
     "text": [
      "Total major chain hotels in selected cities: 247\n",
      "Sample hotels found: ['Courtyard by Marriott Nashville Downtown', 'Courtyard by Marriott Reno', 'Holiday Inn Nashville-Vanderbilt', 'DoubleTree Suites by Hilton Hotel Nashville Airport', 'Sheraton Indianapolis Hotel at Keystone Crossing', 'DoubleTree by Hilton Hotel Philadelphia Center City', 'Embassy Suites by Hilton Tampa Downtown Convention Center', 'Grand Hyatt Tampa Bay', 'Hilton Garden Inn Nashville Vanderbilt', 'Hyatt House Indianapolis/Downtown']\n"
     ]
    }
   ],
   "source": [
    "selected_cities = ['Philadelphia', 'Tampa', 'Indianapolis', 'Nashville', 'New Orleans','Reno']\n",
    "major_chains = ['Marriott', 'Hilton', 'Hyatt', 'Sheraton', 'Westin', 'DoubleTree', 'Holiday Inn']\n",
    "\n",
    "chain_hotels = []\n",
    "with open('../Yelp-JSON/yelp_dataset/yelp_academic_dataset_business.json', encoding='utf-8') as f:\n",
    "    for line in f:\n",
    "        business = json.loads(line)\n",
    "        city = business['city'].strip()\n",
    "        name = business['name']\n",
    "        categories = str(business.get('categories', ''))\n",
    "        if city in selected_cities:\n",
    "            if any(chain in name for chain in major_chains) or any(chain in categories for chain in major_chains):\n",
    "                chain_hotels.append(business)\n",
    "\n",
    "print(f\"Total major chain hotels in selected cities: {len(chain_hotels)}\")\n",
    "print(\"Sample hotels found:\", [hotel['name'] for hotel in chain_hotels[:10]])"
   ]
  },
  {
   "cell_type": "code",
   "execution_count": 21,
   "metadata": {},
   "outputs": [],
   "source": [
    "chain_hotels_df = pd.DataFrame(chain_hotels)\n",
    "chain_hotel_ids = set(chain_hotels_df['business_id'])"
   ]
  },
  {
   "cell_type": "code",
   "execution_count": 22,
   "metadata": {},
   "outputs": [
    {
     "name": "stdout",
     "output_type": "stream",
     "text": [
      "Total reviews for major chain hotels: 23810\n"
     ]
    }
   ],
   "source": [
    "hotel_reviews = []\n",
    "with open('../Yelp-JSON/yelp_dataset/yelp_academic_dataset_review.json', encoding='utf-8') as f:\n",
    "    for line in f:\n",
    "        review = json.loads(line)\n",
    "        if review['business_id'] in chain_hotel_ids:\n",
    "            hotel_reviews.append(review)\n",
    "\n",
    "print(f\"Total reviews for major chain hotels: {len(hotel_reviews)}\")"
   ]
  },
  {
   "cell_type": "code",
   "execution_count": 23,
   "metadata": {},
   "outputs": [
    {
     "name": "stdout",
     "output_type": "stream",
     "text": [
      "Merged shape: (23810, 22)\n"
     ]
    }
   ],
   "source": [
    "# Convert to DataFrames\n",
    "chain_hotels_df = pd.DataFrame(chain_hotels)\n",
    "hotel_reviews_df = pd.DataFrame(hotel_reviews)\n",
    "\n",
    "# Merge review and hotel info\n",
    "df = hotel_reviews_df.merge(chain_hotels_df, on='business_id', suffixes=('_review', '_hotel'))\n",
    "print(\"Merged shape:\", df.shape)"
   ]
  },
  {
   "cell_type": "code",
   "execution_count": 24,
   "metadata": {},
   "outputs": [
    {
     "name": "stdout",
     "output_type": "stream",
     "text": [
      "Final dataset shape: (22121, 35)\n"
     ]
    }
   ],
   "source": [
    "# Step 1: Clean and engineer features\n",
    "df_clean = clean_reviews(df)\n",
    "df_clean = add_chain_flags(df_clean)\n",
    "df_clean = add_category_flags(df_clean)\n",
    "\n",
    "# Step 2: Sample up to 5,000 reviews per city\n",
    "df_sampled = sample_reviews_per_city(df_clean, city_col='city', n_per_city=5000, random_state=42)\n",
    "\n",
    "# Step 3: Save\n",
    "df_sampled.to_csv('../Yelp-JSON/yelp_dataset/new_cities_cleaned.csv', index=False)\n",
    "print(f\"Final dataset shape: {df_sampled.shape}\")"
   ]
  },
  {
   "cell_type": "code",
   "execution_count": null,
   "metadata": {},
   "outputs": [],
   "source": []
  }
 ],
 "metadata": {
  "kernelspec": {
   "display_name": "signal-protocol-implementation",
   "language": "python",
   "name": "signal-protocol-implementation"
  },
  "language_info": {
   "codemirror_mode": {
    "name": "ipython",
    "version": 3
   },
   "file_extension": ".py",
   "mimetype": "text/x-python",
   "name": "python",
   "nbconvert_exporter": "python",
   "pygments_lexer": "ipython3",
   "version": "3.11.9"
  }
 },
 "nbformat": 4,
 "nbformat_minor": 2
}
