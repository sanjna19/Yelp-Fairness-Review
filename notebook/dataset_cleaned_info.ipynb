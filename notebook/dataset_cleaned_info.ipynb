{
 "cells": [
  {
   "cell_type": "markdown",
   "metadata": {},
   "source": []
  },
  {
   "cell_type": "code",
   "execution_count": 16,
   "metadata": {},
   "outputs": [],
   "source": [
    "import os\n",
    "import sys\n",
    "\n",
    "src_path = r\"D:\\SEM 4\\CS516\\Yelp Fairness Review\\scripts\"\n",
    "if src_path not in sys.path:\n",
    "    sys.path.append(src_path)\n",
    "import matplotlib.pyplot as plt\n",
    "import pandas as pd\n"
   ]
  },
  {
   "cell_type": "code",
   "execution_count": 27,
   "metadata": {},
   "outputs": [],
   "source": [
    "df = pd.read_csv('../Yelp-JSON/yelp_dataset/new_cities_cleaned.csv')"
   ]
  },
  {
   "cell_type": "code",
   "execution_count": 28,
   "metadata": {},
   "outputs": [
    {
     "name": "stdout",
     "output_type": "stream",
     "text": [
      "Rows, Columns: (22121, 35)\n"
     ]
    }
   ],
   "source": [
    "# Shape of the DataFrame\n",
    "print(\"Rows, Columns:\", df.shape)\n"
   ]
  },
  {
   "cell_type": "code",
   "execution_count": 29,
   "metadata": {},
   "outputs": [
    {
     "name": "stdout",
     "output_type": "stream",
     "text": [
      "\n",
      "Columns and Types:\n",
      " review_id          object\n",
      "user_id            object\n",
      "business_id        object\n",
      "stars_review      float64\n",
      "useful              int64\n",
      "funny               int64\n",
      "cool                int64\n",
      "text               object\n",
      "date               object\n",
      "name               object\n",
      "address            object\n",
      "city               object\n",
      "state              object\n",
      "postal_code         int64\n",
      "latitude          float64\n",
      "longitude         float64\n",
      "stars_hotel       float64\n",
      "review_count        int64\n",
      "is_open             int64\n",
      "attributes         object\n",
      "categories         object\n",
      "hours              object\n",
      "text_length         int64\n",
      "review_year         int64\n",
      "review_month        int64\n",
      "is_marriott          bool\n",
      "is_hilton            bool\n",
      "is_hyatt             bool\n",
      "is_sheraton          bool\n",
      "is_westin            bool\n",
      "is_doubletree        bool\n",
      "is_holiday_inn       bool\n",
      "is_hotel             bool\n",
      "is_spa               bool\n",
      "is_restaurant        bool\n",
      "dtype: object\n"
     ]
    }
   ],
   "source": [
    "# Column names and types\n",
    "print(\"\\nColumns and Types:\\n\", df.dtypes)\n"
   ]
  },
  {
   "cell_type": "code",
   "execution_count": 30,
   "metadata": {},
   "outputs": [
    {
     "name": "stdout",
     "output_type": "stream",
     "text": [
      "\n",
      "Sample Rows:\n",
      "                 review_id                 user_id             business_id  \\\n",
      "0  6ua_RuwuE78l3t51BhxE9Q  USywezFPwIHeg7hmSWuvQg  SEFujmfGZI08JWRyhIpYeQ   \n",
      "1  6fSJNrKaxns85umEKEqgHw  ju-aM3uOhrh7q2hip7bPOg  QMHd6Z2djm_SBLzGhLvFqw   \n",
      "2  3hdr-kc_B9cPjR9SDDOPBg  cvpvJV6owKXR1RarDGM1HA  jMqEQYBIztLtcvnTujfHUA   \n",
      "3  Lj5oHi3GaU68rr0hFsUIAg  OY32TwbyMP1z6MIyirm0Yw  JKR09pJneafnwpUg0FNEzw   \n",
      "4  1CuaSJaooB8VLAp2CG2I9A  BQLc7jSHfPXDvleNFJ6lyg  d9T1Jgf4N2vY3dcMlnCgeA   \n",
      "\n",
      "   stars_review  useful  funny  cool  \\\n",
      "0           1.0       0      0     0   \n",
      "1           4.0       0      0     0   \n",
      "2           5.0       3      0     1   \n",
      "3           1.0       0      0     0   \n",
      "4           3.0       0      0     0   \n",
      "\n",
      "                                                text                 date  \\\n",
      "0  please don't waste your time making a reservat...  2021-07-16 13:20:09   \n",
      "1  in town for a college football game. picked th...  2015-11-01 17:25:02   \n",
      "2  i stay at this hotel during my occasional visi...  2021-04-22 12:06:29   \n",
      "3  yet another hotel review from the road warrior...  2009-04-01 21:24:34   \n",
      "4  i am a big marriott fan. very nice staff, ever...  2013-05-10 11:30:27   \n",
      "\n",
      "                                                name  ... is_marriott  \\\n",
      "0      Embassy Suites by Hilton Philadelphia Airport  ...       False   \n",
      "1  Courtyard by Marriott Philadelphia South at Th...  ...        True   \n",
      "2             Hyatt Centric Center City Philadelphia  ...       False   \n",
      "3         Hilton Garden Inn Philadelphia Center City  ...       False   \n",
      "4                      Philadelphia Airport Marriott  ...        True   \n",
      "\n",
      "  is_hilton is_hyatt  is_sheraton  is_westin  is_doubletree  is_holiday_inn  \\\n",
      "0      True    False        False      False          False           False   \n",
      "1     False    False        False      False          False           False   \n",
      "2     False     True        False      False          False           False   \n",
      "3      True    False        False      False          False           False   \n",
      "4     False    False        False      False          False           False   \n",
      "\n",
      "   is_hotel  is_spa is_restaurant  \n",
      "0      True   False         False  \n",
      "1      True    True         False  \n",
      "2      True    True         False  \n",
      "3      True    True          True  \n",
      "4      True    True         False  \n",
      "\n",
      "[5 rows x 35 columns]\n"
     ]
    }
   ],
   "source": [
    "# Preview first few rows\n",
    "print(\"\\nSample Rows:\\n\", df.head())"
   ]
  },
  {
   "cell_type": "code",
   "execution_count": 31,
   "metadata": {},
   "outputs": [
    {
     "name": "stdout",
     "output_type": "stream",
     "text": [
      "\n",
      "Missing Values per Column:\n",
      " review_id            0\n",
      "user_id              0\n",
      "business_id          0\n",
      "stars_review         0\n",
      "useful               0\n",
      "funny                0\n",
      "cool                 0\n",
      "text                 0\n",
      "date                 0\n",
      "name                 0\n",
      "address              0\n",
      "city                 0\n",
      "state                0\n",
      "postal_code          0\n",
      "latitude             0\n",
      "longitude            0\n",
      "stars_hotel          0\n",
      "review_count         0\n",
      "is_open              0\n",
      "attributes         452\n",
      "categories           0\n",
      "hours             1097\n",
      "text_length          0\n",
      "review_year          0\n",
      "review_month         0\n",
      "is_marriott          0\n",
      "is_hilton            0\n",
      "is_hyatt             0\n",
      "is_sheraton          0\n",
      "is_westin            0\n",
      "is_doubletree        0\n",
      "is_holiday_inn       0\n",
      "is_hotel             0\n",
      "is_spa               0\n",
      "is_restaurant        0\n",
      "dtype: int64\n"
     ]
    }
   ],
   "source": [
    "# Check for missing values in each column\n",
    "print(\"\\nMissing Values per Column:\\n\", df.isnull().sum())"
   ]
  },
  {
   "cell_type": "code",
   "execution_count": 32,
   "metadata": {},
   "outputs": [
    {
     "name": "stdout",
     "output_type": "stream",
     "text": [
      "\n",
      "Unique Cities: 6\n",
      "Unique Businesses: 247\n"
     ]
    }
   ],
   "source": [
    "# Count unique cities and business names\n",
    "print(\"\\nUnique Cities:\", df['city'].nunique())\n",
    "print(\"Unique Businesses:\", df['business_id'].nunique())"
   ]
  },
  {
   "cell_type": "code",
   "execution_count": 33,
   "metadata": {},
   "outputs": [
    {
     "name": "stdout",
     "output_type": "stream",
     "text": [
      "\n",
      "Review Length Stats:\n",
      " count    22121.000000\n",
      "mean       141.852584\n",
      "std        122.909084\n",
      "min          6.000000\n",
      "25%         61.000000\n",
      "50%        106.000000\n",
      "75%        181.000000\n",
      "max        977.000000\n",
      "Name: text_length, dtype: float64\n"
     ]
    }
   ],
   "source": [
    "# Check review length\n",
    "print(\"\\nReview Length Stats:\\n\", df['text_length'].describe())"
   ]
  },
  {
   "cell_type": "code",
   "execution_count": 34,
   "metadata": {},
   "outputs": [
    {
     "name": "stdout",
     "output_type": "stream",
     "text": [
      "\n",
      "Super short reviews (less than 5 words):\n",
      "Empty DataFrame\n",
      "Columns: [text]\n",
      "Index: []\n"
     ]
    }
   ],
   "source": [
    "# Quick check: sample problematic (super short) reviews if any\n",
    "print(\"\\nSuper short reviews (less than 5 words):\")\n",
    "print(df[df['text_length'] < 5][['text']].head())"
   ]
  },
  {
   "cell_type": "code",
   "execution_count": null,
   "metadata": {},
   "outputs": [],
   "source": []
  }
 ],
 "metadata": {
  "kernelspec": {
   "display_name": "signal-protocol-implementation",
   "language": "python",
   "name": "signal-protocol-implementation"
  },
  "language_info": {
   "codemirror_mode": {
    "name": "ipython",
    "version": 3
   },
   "file_extension": ".py",
   "mimetype": "text/x-python",
   "name": "python",
   "nbconvert_exporter": "python",
   "pygments_lexer": "ipython3",
   "version": "3.11.9"
  }
 },
 "nbformat": 4,
 "nbformat_minor": 2
}
