{
 "cells": [
  {
   "cell_type": "markdown",
   "metadata": {},
   "source": []
  },
  {
   "cell_type": "code",
   "execution_count": 1,
   "metadata": {},
   "outputs": [],
   "source": [
    "import os\n",
    "import sys\n",
    "\n",
    "src_path = r\"D:\\SEM 4\\CS516\\Yelp Fairness Review\\scripts\"\n",
    "if src_path not in sys.path:\n",
    "    sys.path.append(src_path)\n",
    "import matplotlib.pyplot as plt\n",
    "import pandas as pd\n"
   ]
  },
  {
   "cell_type": "code",
   "execution_count": 2,
   "metadata": {},
   "outputs": [],
   "source": [
    "df = pd.read_csv('../Yelp-JSON/yelp_dataset/prepared_hospitality_reviews.csv')"
   ]
  },
  {
   "cell_type": "code",
   "execution_count": 5,
   "metadata": {},
   "outputs": [
    {
     "name": "stdout",
     "output_type": "stream",
     "text": [
      "Rows, Columns: (8, 29)\n"
     ]
    }
   ],
   "source": [
    "# Shape of the DataFrame\n",
    "print(\"Rows, Columns:\", df.shape)\n"
   ]
  },
  {
   "cell_type": "code",
   "execution_count": 6,
   "metadata": {},
   "outputs": [
    {
     "name": "stdout",
     "output_type": "stream",
     "text": [
      "\n",
      "Columns and Types:\n",
      " review_id         object\n",
      "user_id           object\n",
      "business_id       object\n",
      "stars_review     float64\n",
      "useful             int64\n",
      "funny              int64\n",
      "cool               int64\n",
      "text              object\n",
      "date              object\n",
      "name              object\n",
      "address           object\n",
      "city              object\n",
      "state             object\n",
      "postal_code        int64\n",
      "latitude         float64\n",
      "longitude        float64\n",
      "stars_biz        float64\n",
      "review_count       int64\n",
      "is_open            int64\n",
      "attributes        object\n",
      "categories        object\n",
      "hours            float64\n",
      "is_chain            bool\n",
      "text_length        int64\n",
      "review_year        int64\n",
      "review_month       int64\n",
      "is_hotel            bool\n",
      "is_spa              bool\n",
      "is_restaurant       bool\n",
      "dtype: object\n"
     ]
    }
   ],
   "source": [
    "# Column names and types\n",
    "print(\"\\nColumns and Types:\\n\", df.dtypes)\n"
   ]
  },
  {
   "cell_type": "code",
   "execution_count": 7,
   "metadata": {},
   "outputs": [
    {
     "name": "stdout",
     "output_type": "stream",
     "text": [
      "\n",
      "Sample Rows:\n",
      "                 review_id                 user_id             business_id  \\\n",
      "0  -uB_lEQW1P83HQM2BDdgcA  Df7B-v6xR_wgzgxjnH6IhA  Zud0Z8ajPgvL0HXVJ61B6g   \n",
      "1  6nZnMn3Y4KBtN5Yp_iHEdA  P350m920rIHRC9tmTEw45A  Zud0Z8ajPgvL0HXVJ61B6g   \n",
      "2  9mxMsLtcq5EG4fOdAR5ICQ  vU9_lZqJQIR8btUYw7fqxA  Zud0Z8ajPgvL0HXVJ61B6g   \n",
      "3  5FwW2mD8-Mg0xK4BLv6t6Q  7wF68Mk9NNYrSZmOV5iwZw  Zud0Z8ajPgvL0HXVJ61B6g   \n",
      "4  xzYp4E7QbDB-kJRR1-XUhA  WXNi47QBnu0CkMBRsnKEqg  Zud0Z8ajPgvL0HXVJ61B6g   \n",
      "\n",
      "   stars_review  useful  funny  cool  \\\n",
      "0           5.0       0      0     0   \n",
      "1           1.0       2      0     0   \n",
      "2           3.0       3      0     0   \n",
      "3           4.0       2      0     1   \n",
      "4           4.0       0      0     0   \n",
      "\n",
      "                                                text                 date  \\\n",
      "0  this is seriously the only to go place in the ...  2016-05-20 11:17:57   \n",
      "1  was catching an early morning flight from phl ...  2015-11-01 03:17:53   \n",
      "2  i came here today before catching a flight. \\n...  2017-04-30 11:18:06   \n",
      "3  popped into good 2 go looking for a heathy, lo...  2015-07-13 22:56:32   \n",
      "4  good selection on snacks, drinks, goodies, and...  2014-10-12 09:42:53   \n",
      "\n",
      "        name  ...                                         attributes  \\\n",
      "0  Good 2 Go  ...  {'BusinessAcceptsCreditCards': 'True', 'Busine...   \n",
      "1  Good 2 Go  ...  {'BusinessAcceptsCreditCards': 'True', 'Busine...   \n",
      "2  Good 2 Go  ...  {'BusinessAcceptsCreditCards': 'True', 'Busine...   \n",
      "3  Good 2 Go  ...  {'BusinessAcceptsCreditCards': 'True', 'Busine...   \n",
      "4  Good 2 Go  ...  {'BusinessAcceptsCreditCards': 'True', 'Busine...   \n",
      "\n",
      "                                          categories hours  is_chain  \\\n",
      "0  Office Cleaning, Fast Food, Damage Restoration...   NaN     False   \n",
      "1  Office Cleaning, Fast Food, Damage Restoration...   NaN     False   \n",
      "2  Office Cleaning, Fast Food, Damage Restoration...   NaN     False   \n",
      "3  Office Cleaning, Fast Food, Damage Restoration...   NaN     False   \n",
      "4  Office Cleaning, Fast Food, Damage Restoration...   NaN     False   \n",
      "\n",
      "   text_length  review_year  review_month  is_hotel  is_spa is_restaurant  \n",
      "0           35         2016             5     False   False          True  \n",
      "1           53         2015            11     False   False          True  \n",
      "2          107         2017             4     False   False          True  \n",
      "3           81         2015             7     False   False          True  \n",
      "4           42         2014            10     False   False          True  \n",
      "\n",
      "[5 rows x 29 columns]\n"
     ]
    }
   ],
   "source": [
    "# Preview first few rows\n",
    "print(\"\\nSample Rows:\\n\", df.head())"
   ]
  },
  {
   "cell_type": "code",
   "execution_count": 8,
   "metadata": {},
   "outputs": [
    {
     "name": "stdout",
     "output_type": "stream",
     "text": [
      "\n",
      "Missing Values per Column:\n",
      " review_id        0\n",
      "user_id          0\n",
      "business_id      0\n",
      "stars_review     0\n",
      "useful           0\n",
      "funny            0\n",
      "cool             0\n",
      "text             0\n",
      "date             0\n",
      "name             0\n",
      "address          0\n",
      "city             0\n",
      "state            0\n",
      "postal_code      0\n",
      "latitude         0\n",
      "longitude        0\n",
      "stars_biz        0\n",
      "review_count     0\n",
      "is_open          0\n",
      "attributes       0\n",
      "categories       0\n",
      "hours            8\n",
      "is_chain         0\n",
      "text_length      0\n",
      "review_year      0\n",
      "review_month     0\n",
      "is_hotel         0\n",
      "is_spa           0\n",
      "is_restaurant    0\n",
      "dtype: int64\n"
     ]
    }
   ],
   "source": [
    "# Check for missing values in each column\n",
    "print(\"\\nMissing Values per Column:\\n\", df.isnull().sum())"
   ]
  },
  {
   "cell_type": "code",
   "execution_count": 9,
   "metadata": {},
   "outputs": [
    {
     "name": "stdout",
     "output_type": "stream",
     "text": [
      "\n",
      "Unique Cities: 1\n",
      "Unique Businesses: 1\n"
     ]
    }
   ],
   "source": [
    "# Count unique cities and business names\n",
    "print(\"\\nUnique Cities:\", df['city'].nunique())\n",
    "print(\"Unique Businesses:\", df['business_id'].nunique())"
   ]
  },
  {
   "cell_type": "code",
   "execution_count": 10,
   "metadata": {},
   "outputs": [
    {
     "name": "stdout",
     "output_type": "stream",
     "text": [
      "\n",
      "Chain Hotel Count: is_chain\n",
      "False    8\n",
      "Name: count, dtype: int64\n",
      "Hotels: 0\n",
      "Spas: 0\n",
      "Restaurants: 8\n"
     ]
    }
   ],
   "source": [
    "# Value counts for flags/features\n",
    "print(\"\\nChain Hotel Count:\", df['is_chain'].value_counts())\n",
    "print(\"Hotels:\", df['is_hotel'].sum())\n",
    "print(\"Spas:\", df['is_spa'].sum())\n",
    "print(\"Restaurants:\", df['is_restaurant'].sum())"
   ]
  },
  {
   "cell_type": "code",
   "execution_count": 12,
   "metadata": {},
   "outputs": [
    {
     "name": "stdout",
     "output_type": "stream",
     "text": [
      "\n",
      "Review Length Stats:\n",
      " count      8.000000\n",
      "mean      68.625000\n",
      "std       38.258286\n",
      "min       18.000000\n",
      "25%       40.250000\n",
      "50%       67.000000\n",
      "75%       89.000000\n",
      "max      130.000000\n",
      "Name: text_length, dtype: float64\n"
     ]
    }
   ],
   "source": [
    "# Check review length\n",
    "print(\"\\nReview Length Stats:\\n\", df['text_length'].describe())"
   ]
  },
  {
   "cell_type": "code",
   "execution_count": 13,
   "metadata": {},
   "outputs": [
    {
     "name": "stdout",
     "output_type": "stream",
     "text": [
      "\n",
      "Super short reviews (less than 5 words):\n",
      "Empty DataFrame\n",
      "Columns: [text]\n",
      "Index: []\n"
     ]
    }
   ],
   "source": [
    "# Quick check: sample problematic (super short) reviews if any\n",
    "print(\"\\nSuper short reviews (less than 5 words):\")\n",
    "print(df[df['text_length'] < 5][['text']].head())"
   ]
  },
  {
   "cell_type": "code",
   "execution_count": 15,
   "metadata": {},
   "outputs": [],
   "source": [
    "# Distribution of star ratings (if present)\n",
    "if 'stars' in df.columns:\n",
    "    print(\"\\nStar Ratings Distribution:\\n\", df['stars'].value_counts().sort_index())"
   ]
  },
  {
   "cell_type": "code",
   "execution_count": null,
   "metadata": {},
   "outputs": [],
   "source": []
  }
 ],
 "metadata": {
  "kernelspec": {
   "display_name": "signal-protocol-implementation",
   "language": "python",
   "name": "signal-protocol-implementation"
  },
  "language_info": {
   "codemirror_mode": {
    "name": "ipython",
    "version": 3
   },
   "file_extension": ".py",
   "mimetype": "text/x-python",
   "name": "python",
   "nbconvert_exporter": "python",
   "pygments_lexer": "ipython3",
   "version": "3.11.9"
  }
 },
 "nbformat": 4,
 "nbformat_minor": 2
}
